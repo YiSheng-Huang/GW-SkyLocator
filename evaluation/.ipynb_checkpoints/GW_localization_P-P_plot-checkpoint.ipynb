{
 "cells": [
  {
   "cell_type": "code",
   "execution_count": 1,
   "metadata": {},
   "outputs": [],
   "source": [
    "import pandas as pd\n",
    "import healpy as hp\n",
    "import numpy as np\n",
    "import ligo.skymap\n",
    "import argparse\n",
    "import matplotlib.pyplot as plt\n",
    "\n",
    "from matplotlib import rcParams\n",
    "from pathlib import Path\n",
    "from ligo.skymap import io, kde, postprocess\n",
    "from ligo.skymap.plot.marker import reticle\n",
    "\n",
    "import h5py\n"
   ]
  },
  {
   "cell_type": "code",
   "execution_count": 2,
   "metadata": {},
   "outputs": [],
   "source": [
    "f1 = h5py.File(\"Real_events/GW170817_test_3_det_all_SNR_ResNet-34_1.hdf\", \"r\")\n",
    "probs = f1[\"Probabilities\"][()]\n",
    "ra_preds = f1[\"RA_samples\"][()]\n",
    "dec_preds = f1[\"Dec_samples\"][()]\n",
    "ra_test = f1[\"RA_test\"][()]\n",
    "dec_test = f1[\"Dec_test\"][()]\n",
    "\n",
    "f1.close()\n"
   ]
  },
  {
   "cell_type": "code",
   "execution_count": 3,
   "metadata": {},
   "outputs": [],
   "source": [
    "ra_preds = np.where(ra_preds > 2.0*np.pi, 2.0*np.pi, ra_preds)\n",
    "ra_preds = np.where(ra_preds < 0.0, 0.0, ra_preds)\n",
    "\n",
    "\n",
    "dec_preds = np.where(dec_preds > np.pi/2, np.pi/2, dec_preds)\n",
    "dec_preds = np.where(dec_preds < -np.pi/2, -np.pi/2, dec_preds)\n"
   ]
  },
  {
   "cell_type": "code",
   "execution_count": 4,
   "metadata": {},
   "outputs": [],
   "source": [
    "pts = np.stack([ra_preds, dec_preds], axis=2)\n"
   ]
  },
  {
   "cell_type": "code",
   "execution_count": 5,
   "metadata": {},
   "outputs": [
    {
     "data": {
      "application/vnd.jupyter.widget-view+json": {
       "model_id": "a16df12663384586b3be14ab52839c7f",
       "version_major": 2,
       "version_minor": 0
      },
      "text/plain": [
       "HBox(children=(FloatProgress(value=0.0, max=120.0), HTML(value='')))"
      ]
     },
     "metadata": {},
     "output_type": "display_data"
    },
    {
     "name": "stdout",
     "output_type": "stream",
     "text": [
      "\n"
     ]
    }
   ],
   "source": [
    "sky_posterior = []\n",
    "\n",
    "for i in range(1):\n",
    "    sky_posterior.append(kde.Clustered2DSkyKDE(pts[i], trials=3, jobs=5))\n"
   ]
  },
  {
   "cell_type": "code",
   "execution_count": 6,
   "metadata": {},
   "outputs": [
    {
     "name": "stdout",
     "output_type": "stream",
     "text": [
      "adaptive refinement round 1 of 7 ...\n",
      "adaptive refinement round 2 of 7 ...\n",
      "adaptive refinement round 3 of 7 ...\n",
      "adaptive refinement round 4 of 7 ...\n",
      "adaptive refinement round 5 of 7 ...\n",
      "adaptive refinement round 6 of 7 ...\n",
      "adaptive refinement round 7 of 7 ...\n"
     ]
    }
   ],
   "source": [
    "hpmap = []\n",
    "\n",
    "for i in range(1):\n",
    "    hpmap.append(sky_posterior[i].as_healpix())\n"
   ]
  },
  {
   "cell_type": "code",
   "execution_count": 7,
   "metadata": {},
   "outputs": [],
   "source": [
    "for i in range(1):\n",
    "    io.write_sky_map('skymaps/Test_GW170817_'+str(i)+'_1.fits', hpmap[i], nest=True)\n"
   ]
  },
  {
   "cell_type": "code",
   "execution_count": 8,
   "metadata": {},
   "outputs": [],
   "source": [
    "skymap = []\n",
    "\n",
    "for i in range(1):\n",
    "    s, metadata = io.fits.read_sky_map('skymaps/Test_GW170817_'+str(i)+'_1.fits', nest=None)\n",
    "    skymap.append(s)\n",
    "    "
   ]
  },
  {
   "cell_type": "code",
   "execution_count": 148,
   "metadata": {},
   "outputs": [
    {
     "data": {
      "image/png": "[encoded data removed]",
      "text/plain": [
       "<Figure size 432x288 with 1 Axes>"
      ]
     },
     "metadata": {
      "needs_background": "light"
     },
     "output_type": "display_data"
    }
   ],
   "source": [
    "ax = plt.axes(projection=\"astro hours mollweide\")\n",
    "ax.grid()\n",
    "\n",
    "cl = []\n",
    "area_90 = []\n",
    "area_50 = []\n",
    "search_area = []\n",
    "\n",
    "eps = 1e-5\n",
    "\n",
    "for i in range(10):\n",
    "    # Convert to probability per square degree\n",
    "    nside = hp.npix2nside(len(skymap[i]))\n",
    "    deg2perpix = hp.nside2pixarea(nside, degrees=True)\n",
    "    probperdeg2 = skymap[i] / deg2perpix\n",
    "    \n",
    "    event_ra = ra_test[i]\n",
    "    event_de = dec_test[i]\n",
    "\n",
    "    vmax = probperdeg2.max()\n",
    "    vmin = probperdeg2.min()\n",
    "    \n",
    "    confidence_levels = 100 * postprocess.find_greedy_credible_levels(skymap[i])\n",
    "    cl.append(confidence_levels[hp.ang2pix(nside,-event_de+np.pi/2,event_ra, nest=True)]) \n",
    "    \n",
    "    area_90.append(np.sum(confidence_levels <= 90) * hp.nside2pixarea(nside, degrees=True) + eps)\n",
    "    area_50.append(np.sum(confidence_levels <= 50) * hp.nside2pixarea(nside, degrees=True) + eps)\n",
    "    \n",
    "    search_area.append(np.sum(confidence_levels <= cl[i]) * hp.nside2pixarea(nside, degrees=True) + eps)  \n",
    "    "
   ]
  },
  {
   "cell_type": "code",
   "execution_count": 149,
   "metadata": {},
   "outputs": [
    {
     "name": "stdout",
     "output_type": "stream",
     "text": [
      "Percentage       Minimum area    Minimum index\n",
      "-------------  --------------  ---------------\n",
      "90%                 12.9664                  6\n",
      "50%                  3.78995                 6\n",
      "Searched Area        0.249175                5\n"
     ]
    }
   ],
   "source": [
    "from tabulate import tabulate\n",
    "\n",
    "table = [[\"90%\",np.min(area_90),np.argmin(area_90)],\n",
    "         [\"50%\",np.min(area_50),np.argmin(area_50)],\n",
    "         [\"Searched Area\",np.min(search_area),np.argmin(search_area)]]\n",
    "\n",
    "print(tabulate(table, headers=[\"Percentage\", \"Minimum area\", \"Minimum index\"]))\n",
    "  "
   ]
  },
  {
   "cell_type": "code",
   "execution_count": 150,
   "metadata": {},
   "outputs": [
    {
     "data": {
      "text/plain": [
       "Text(0.5, 0, 'Area in log(deg^2)')"
      ]
     },
     "execution_count": 150,
     "metadata": {},
     "output_type": "execute_result"
    },
    {
     "data": {
      "image/png": "[encoded data removed]",
      "text/plain": [
       "<Figure size 432x288 with 1 Axes>"
      ]
     },
     "metadata": {
      "needs_background": "light"
     },
     "output_type": "display_data"
    }
   ],
   "source": [
    "plt.hist(np.log10(area_90),50,range=(1,np.max(np.log10(search_area))),cumulative=True,histtype='step',density=True,label='90%, median='+str(round(np.median(area_90),2)))\n",
    "plt.hist(np.log10(area_50),50,range=(1,np.max(np.log10(search_area))),cumulative=True,histtype='step',density=True,label='50%, median='+str(round(np.median(area_50),2)))\n",
    "plt.hist(np.log10(search_area),50,range=(1,np.max(np.log10(search_area))),cumulative=True,histtype='step',density=True,label='Search, median='+str(round(np.median(search_area),2)))\n",
    "\n",
    "\n",
    "plt.legend(loc=4)\n",
    "plt.ylabel('Cumulative Ratio')\n",
    "plt.xlabel('Area in log(deg^2)')\n"
   ]
  },
  {
   "cell_type": "code",
   "execution_count": 151,
   "metadata": {},
   "outputs": [
    {
     "data": {
      "text/plain": [
       "[<matplotlib.lines.Line2D at 0x7fcc951ce350>]"
      ]
     },
     "execution_count": 151,
     "metadata": {},
     "output_type": "execute_result"
    },
    {
     "data": {
      "image/png": "[encoded data removed]",
      "text/plain": [
       "<Figure size 360x360 with 1 Axes>"
      ]
     },
     "metadata": {
      "needs_background": "light"
     },
     "output_type": "display_data"
    }
   ],
   "source": [
    "fig = plt.figure(figsize=(5, 5))\n",
    "ax = fig.add_subplot(111, projection='pp_plot')\n",
    "\n",
    "ax.add_confidence_band(len(ra_test),alpha=0.90) # Add 90% confidence band\n",
    "ax.add_diagonal() # Add diagonal line\n",
    "#ax.add_lightning(len(ra_test), 20) # Add some random realizations of n samples\n",
    "ax.add_series(cl) # Add our data\n"
   ]
  },
  {
   "cell_type": "code",
   "execution_count": 9,
   "metadata": {},
   "outputs": [],
   "source": [
    "skymap, metadata = io.fits.read_sky_map('skymaps/Test_GW170817_0_1.fits', nest=None)\n",
    "nside = hp.npix2nside(len(skymap))\n"
   ]
  },
  {
   "cell_type": "code",
   "execution_count": 10,
   "metadata": {},
   "outputs": [
    {
     "data": {
      "image/png": "[encoded data removed]",
      "text/plain": [
       "<Figure size 432x288 with 1 Axes>"
      ]
     },
     "metadata": {
      "needs_background": "light"
     },
     "output_type": "display_data"
    }
   ],
   "source": [
    "from astropy.coordinates import SkyCoord\n",
    "# Convert to probability per square degree\n",
    "deg2perpix = hp.nside2pixarea(nside, degrees=True)\n",
    "probperdeg2 = skymap / deg2perpix\n",
    "\n",
    "ax = plt.axes(projection=\"astro hours mollweide\")\n",
    "ax.grid()\n",
    "\n",
    "event_ra = ra_test[0]\n",
    "event_de = dec_test[0]\n",
    "\n",
    "vmax = probperdeg2.max()\n",
    "vmin = probperdeg2.min()\n",
    "ax.imshow_hpx((probperdeg2, 'ICRS'), nested=True, vmin=vmin, vmax=vmax, cmap='cylon')\n",
    "confidence_levels = 100 * postprocess.find_greedy_credible_levels(skymap)\n",
    "contours = ax.contour_hpx((confidence_levels, 'ICRS'), nested=metadata['nest'],linewidths=0.5,levels=[50,90],colors=['green','blue'])\n",
    "#cs = postprocess.contour(m, [50,90], degrees=True)\n",
    "ax.plot_coord(SkyCoord(event_ra, event_de, unit='rad'), 'x',markeredgecolor='black', markersize=5)\n",
    "\n",
    "text = []\n",
    "pp = np.round([50,90]).astype(int)\n",
    "#ii = np.round(np.searchsorted(np.sort(cls),[50,90]) * deg2perpix).astype(int)\n",
    "ii_90 = np.sum(confidence_levels <= 90) * hp.nside2pixarea(nside, degrees=True)\n",
    "ii_50 = np.sum(confidence_levels <= 50) * hp.nside2pixarea(nside, degrees=True)\n",
    "ii = np.round([ii_50,ii_90]).astype(int)\n",
    "for i, p in zip(ii, pp):\n",
    "            # FIXME: use Unicode symbol instead of TeX '$^2$'\n",
    "            # because of broken fonts on Scientific Linux 7.\n",
    "            text.append(u'{:d}% area: {:d} deg²'.format(p, i, grouping=True))\n",
    "ax.text(1, 1, '\\n'.join(text), transform=ax.transAxes, ha='right')\n",
    "#ax.figure.savefig('Localization_after_autoencoder/GWOSC_files_from_autoencoder_final/Localization_plots/CNN_MDN_GW170823_test_NSIDE64.png',dpi=150)\n",
    "ax.figure.savefig('Preds_test_0.png',dpi=150)\n"
   ]
  },
  {
   "cell_type": "code",
   "execution_count": null,
   "metadata": {},
   "outputs": [],
   "source": []
  },
  {
   "cell_type": "code",
   "execution_count": null,
   "metadata": {},
   "outputs": [],
   "source": [
    "import h5py\n",
    "\n",
    "f1 = h5py.File(\"Real_events/GW170817_test_3_det_all_SNR_ResNet-34_1.hdf\", \"r\")\n",
    "probs = f1[\"Probabilities\"][()]\n",
    "ra_test = f1[\"RA_test\"][()]\n",
    "dec_test = f1[\"Dec_test\"][()]\n"
   ]
  },
  {
   "cell_type": "code",
   "execution_count": null,
   "metadata": {},
   "outputs": [],
   "source": [
    "# Plot skymap\n",
    "\n",
    "import healpy as hp\n",
    "import numpy as np\n",
    "import matplotlib.pyplot as plt\n",
    "#import matplotlib\n",
    "#matplotlib.use('tkagg')\n",
    "from ligo.skymap import postprocess\n",
    "import numpy as np\n",
    "import matplotlib.pyplot as plt\n",
    "from matplotlib import rcParams\n",
    "import healpy as hp\n",
    "from ligo.skymap.io import fits\n",
    "from ligo.skymap import plot\n",
    "from ligo.skymap import postprocess\n",
    "from astropy.coordinates import SkyCoord\n",
    "from astropy.time import Time\n",
    "from matplotlib.pyplot import cm\n",
    "import matplotlib\n",
    "\n",
    "\n",
    "def my_cl(array,value):\n",
    "    ratio=1.0\n",
    "    arg = np.argsort(-array)\n",
    "    total = np.sum(array)\n",
    "    part=0.0\n",
    "    for i in arg:\n",
    "#        part = part + array[i]\n",
    "        if array[i]<value:\n",
    "            ratio = part/total\n",
    "            break\n",
    "        else:\n",
    "            part = part + array[i]\n",
    "    \n",
    "    return ratio\n",
    "\n",
    "\n",
    "nside=32\n",
    "npix=hp.nside2npix(nside)\n",
    "theta,phi = hp.pixelfunc.pix2ang(nside,np.arange(npix))\n",
    "#ra_pix = phi\n",
    "#de_pix = -theta + np.pi/2.0\n",
    "\n",
    "deg2perpix = hp.nside2pixarea(nside, degrees=True)\n",
    "\n",
    "#sector_data = np.loadtxt('Probabilities_1', skiprows=1)\n",
    "#prob = np.loadtxt('Localization_after_autoencoder/GWOSC_files_from_autoencoder_final/Localization_preds/CNN_MDN_GW170823_test_NSIDE64.txt')\n",
    "prob = probs[0]\n",
    "\n",
    "\n",
    "cls = 100 * postprocess.find_greedy_credible_levels(prob)\n",
    "\n",
    "ax = plt.axes(projection='astro hours mollweide')\n",
    "ax.grid()\n",
    "event_ra = ra_test[0]\n",
    "event_de = dec_test[0]\n",
    "\n",
    "value = hp.pixelfunc.get_interp_val(prob,event_de,event_ra)\n",
    "projector  = hp.projector.MollweideProj()\n",
    "#x1,y1 = projector.ang2xy(np.array([event_de,event_ra]))\n",
    "img = ax.imshow_hpx(prob, vmin=prob.min(), vmax=prob.max(),cmap='cylon')\n",
    "cs = ax.contour_hpx((cls, 'ICRS'),linewidths=0.5, levels=[0.5*np.sum(prob)*100,0.9*np.sum(prob)*100],colors=['green','blue'])\n",
    "m = theta\n",
    "cs = postprocess.contour(m, [50,90], degrees=True)\n",
    "ax.plot_coord(SkyCoord(event_ra, event_de, unit='rad'), 'x',markeredgecolor='black', markersize=5)\n",
    "text = []\n",
    "cl = my_cl(prob,value)*100\n",
    "pp = np.round([50,90]).astype(int)\n",
    "#ii = np.round(np.searchsorted(np.sort(cls),[50,90]) * deg2perpix).astype(int)\n",
    "ii_90 = np.sum(cls <= 90*np.sum(prob)) * hp.nside2pixarea(nside, degrees=True)\n",
    "ii_50 = np.sum(cls <= 50*np.sum(prob)) * hp.nside2pixarea(nside, degrees=True)\n",
    "ii = np.round([ii_50,ii_90]).astype(int)\n",
    "for i, p in zip(ii, pp):\n",
    "            # FIXME: use Unicode symbol instead of TeX '$^2$'\n",
    "            # because of broken fonts on Scientific Linux 7.\n",
    "            text.append(u'{:d}% area: {:d} deg²'.format(p, i, grouping=True))\n",
    "ax.text(1, 1, '\\n'.join(text), transform=ax.transAxes, ha='right')\n",
    "#ax.figure.savefig('Localization_after_autoencoder/GWOSC_files_from_autoencoder_final/Localization_plots/CNN_MDN_GW170823_test_NSIDE64.png',dpi=150)\n",
    "ax.figure.savefig('Preds_test_0.png',dpi=150)\n"
   ]
  },
  {
   "cell_type": "code",
   "execution_count": null,
   "metadata": {},
   "outputs": [],
   "source": []
  },
  {
   "cell_type": "code",
   "execution_count": null,
   "metadata": {},
   "outputs": [],
   "source": []
  },
  {
   "cell_type": "code",
   "execution_count": null,
   "metadata": {},
   "outputs": [],
   "source": []
  },
  {
   "cell_type": "code",
   "execution_count": null,
   "metadata": {},
   "outputs": [],
   "source": []
  },
  {
   "cell_type": "code",
   "execution_count": null,
   "metadata": {},
   "outputs": [],
   "source": []
  },
  {
   "cell_type": "code",
   "execution_count": null,
   "metadata": {},
   "outputs": [],
   "source": []
  },
  {
   "cell_type": "code",
   "execution_count": null,
   "metadata": {},
   "outputs": [],
   "source": []
  },
  {
   "cell_type": "code",
   "execution_count": null,
   "metadata": {},
   "outputs": [],
   "source": []
  },
  {
   "cell_type": "code",
   "execution_count": null,
   "metadata": {},
   "outputs": [],
   "source": []
  },
  {
   "cell_type": "code",
   "execution_count": null,
   "metadata": {},
   "outputs": [],
   "source": []
  },
  {
   "cell_type": "code",
   "execution_count": null,
   "metadata": {},
   "outputs": [],
   "source": []
  },
  {
   "cell_type": "code",
   "execution_count": null,
   "metadata": {},
   "outputs": [],
   "source": []
  },
  {
   "cell_type": "code",
   "execution_count": null,
   "metadata": {},
   "outputs": [],
   "source": []
  },
  {
   "cell_type": "code",
   "execution_count": null,
   "metadata": {},
   "outputs": [],
   "source": []
  },
  {
   "cell_type": "code",
   "execution_count": null,
   "metadata": {},
   "outputs": [],
   "source": []
  },
  {
   "cell_type": "code",
   "execution_count": null,
   "metadata": {},
   "outputs": [],
   "source": []
  },
  {
   "cell_type": "code",
   "execution_count": null,
   "metadata": {},
   "outputs": [],
   "source": []
  },
  {
   "cell_type": "code",
   "execution_count": null,
   "metadata": {},
   "outputs": [],
   "source": []
  }
 ],
 "metadata": {
  "kernelspec": {
   "display_name": "Python 3",
   "language": "python",
   "name": "python3"
  },
  "language_info": {
   "codemirror_mode": {
    "name": "ipython",
    "version": 3
   },
   "file_extension": ".py",
   "mimetype": "text/x-python",
   "name": "python",
   "nbconvert_exporter": "python",
   "pygments_lexer": "ipython3",
   "version": "3.7.11"
  }
 },
 "nbformat": 4,
 "nbformat_minor": 4
}
