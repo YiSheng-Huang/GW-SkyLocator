{
 "cells": [
  {
   "cell_type": "code",
   "execution_count": 1,
   "metadata": {},
   "outputs": [],
   "source": [
    "import pandas as pd\n",
    "import healpy as hp\n",
    "import numpy as np\n",
    "import ligo.skymap\n",
    "import argparse\n",
    "import matplotlib.pyplot as plt\n",
    "\n",
    "from matplotlib import rcParams\n",
    "from pathlib import Path\n",
    "from ligo.skymap import io, kde, postprocess\n",
    "from ligo.skymap.plot.marker import reticle\n",
    "\n",
    "import h5py\n"
   ]
  },
  {
   "cell_type": "code",
   "execution_count": 3,
   "metadata": {},
   "outputs": [],
   "source": [
    "f1 = h5py.File(\"/group/pmc005/cchatterjee/Localization_output_files/Fixed_NSIDE/Injection_run_BNS_new_ResNet-34.hdf\", \"r\")\n",
    "probs = f1[\"Probabilities\"][()]\n",
    "ra_preds = f1[\"RA_samples\"][()]\n",
    "dec_preds = f1[\"Dec_samples\"][()]\n",
    "ra_test = f1[\"RA_test\"][()]\n",
    "dec_test = f1[\"Dec_test\"][()]\n",
    "\n",
    "f1.close()\n"
   ]
  },
  {
   "cell_type": "code",
   "execution_count": 4,
   "metadata": {},
   "outputs": [],
   "source": [
    "ra_preds = np.where(ra_preds > 2.0*np.pi, 2.0*np.pi, ra_preds)\n",
    "ra_preds = np.where(ra_preds < 0.0, 0.0, ra_preds)\n",
    "\n",
    "\n",
    "dec_preds = np.where(dec_preds > np.pi/2, np.pi/2, dec_preds)\n",
    "dec_preds = np.where(dec_preds < -np.pi/2, -np.pi/2, dec_preds)\n"
   ]
  },
  {
   "cell_type": "code",
   "execution_count": 5,
   "metadata": {},
   "outputs": [],
   "source": [
    "pts = np.stack([ra_preds, dec_preds], axis=2)\n"
   ]
  },
  {
   "cell_type": "code",
   "execution_count": 7,
   "metadata": {},
   "outputs": [
    {
     "data": {
      "application/vnd.jupyter.widget-view+json": {
       "model_id": "a62296fb41974eff9837ae72806e933d",
       "version_major": 2,
       "version_minor": 0
      },
      "text/plain": [
       "HBox(children=(FloatProgress(value=0.0, max=40.0), HTML(value='')))"
      ]
     },
     "metadata": {},
     "output_type": "display_data"
    },
    {
     "name": "stdout",
     "output_type": "stream",
     "text": [
      "\n"
     ]
    },
    {
     "data": {
      "application/vnd.jupyter.widget-view+json": {
       "model_id": "fcc538461d9b4c7ba9e64c1d8b4e7b23",
       "version_major": 2,
       "version_minor": 0
      },
      "text/plain": [
       "HBox(children=(FloatProgress(value=0.0, max=40.0), HTML(value='')))"
      ]
     },
     "metadata": {},
     "output_type": "display_data"
    },
    {
     "name": "stdout",
     "output_type": "stream",
     "text": [
      "\n"
     ]
    },
    {
     "data": {
      "application/vnd.jupyter.widget-view+json": {
       "model_id": "b346bbbe7d57491cbda3b3d933b71662",
       "version_major": 2,
       "version_minor": 0
      },
      "text/plain": [
       "HBox(children=(FloatProgress(value=0.0, max=40.0), HTML(value='')))"
      ]
     },
     "metadata": {},
     "output_type": "display_data"
    },
    {
     "name": "stdout",
     "output_type": "stream",
     "text": [
      "\n"
     ]
    },
    {
     "data": {
      "application/vnd.jupyter.widget-view+json": {
       "model_id": "958d112b2d104c3a915d83021b268737",
       "version_major": 2,
       "version_minor": 0
      },
      "text/plain": [
       "HBox(children=(FloatProgress(value=0.0, max=40.0), HTML(value='')))"
      ]
     },
     "metadata": {},
     "output_type": "display_data"
    },
    {
     "name": "stdout",
     "output_type": "stream",
     "text": [
      "\n"
     ]
    },
    {
     "data": {
      "application/vnd.jupyter.widget-view+json": {
       "model_id": "53fb055b72ea4911b008fc4c023394f7",
       "version_major": 2,
       "version_minor": 0
      },
      "text/plain": [
       "HBox(children=(FloatProgress(value=0.0, max=40.0), HTML(value='')))"
      ]
     },
     "metadata": {},
     "output_type": "display_data"
    },
    {
     "name": "stdout",
     "output_type": "stream",
     "text": [
      "\n"
     ]
    },
    {
     "data": {
      "application/vnd.jupyter.widget-view+json": {
       "model_id": "26a034d97a7b443cbf77fc2d0edc6774",
       "version_major": 2,
       "version_minor": 0
      },
      "text/plain": [
       "HBox(children=(FloatProgress(value=0.0, max=40.0), HTML(value='')))"
      ]
     },
     "metadata": {},
     "output_type": "display_data"
    },
    {
     "name": "stdout",
     "output_type": "stream",
     "text": [
      "\n"
     ]
    },
    {
     "data": {
      "application/vnd.jupyter.widget-view+json": {
       "model_id": "b6a433bf0f5f4361bb5250a1378ca6fd",
       "version_major": 2,
       "version_minor": 0
      },
      "text/plain": [
       "HBox(children=(FloatProgress(value=0.0, max=40.0), HTML(value='')))"
      ]
     },
     "metadata": {},
     "output_type": "display_data"
    },
    {
     "name": "stdout",
     "output_type": "stream",
     "text": [
      "\n"
     ]
    },
    {
     "data": {
      "application/vnd.jupyter.widget-view+json": {
       "model_id": "a8791faee8be4148a4d70da0c0d17b8f",
       "version_major": 2,
       "version_minor": 0
      },
      "text/plain": [
       "HBox(children=(FloatProgress(value=0.0, max=40.0), HTML(value='')))"
      ]
     },
     "metadata": {},
     "output_type": "display_data"
    },
    {
     "name": "stdout",
     "output_type": "stream",
     "text": [
      "\n"
     ]
    },
    {
     "data": {
      "application/vnd.jupyter.widget-view+json": {
       "model_id": "bd1f511fa3444ba29687aae9db402ffb",
       "version_major": 2,
       "version_minor": 0
      },
      "text/plain": [
       "HBox(children=(FloatProgress(value=0.0, max=40.0), HTML(value='')))"
      ]
     },
     "metadata": {},
     "output_type": "display_data"
    },
    {
     "name": "stdout",
     "output_type": "stream",
     "text": [
      "\n"
     ]
    },
    {
     "data": {
      "application/vnd.jupyter.widget-view+json": {
       "model_id": "47049721438941f69a1f9b0d4ddddab6",
       "version_major": 2,
       "version_minor": 0
      },
      "text/plain": [
       "HBox(children=(FloatProgress(value=0.0, max=40.0), HTML(value='')))"
      ]
     },
     "metadata": {},
     "output_type": "display_data"
    },
    {
     "name": "stdout",
     "output_type": "stream",
     "text": [
      "\n"
     ]
    }
   ],
   "source": [
    "sky_posterior = []\n",
    "\n",
    "for i in range(10):\n",
    "    sky_posterior.append(kde.Clustered2DSkyKDE(pts[i], trials=1, jobs=5))\n"
   ]
  },
  {
   "cell_type": "code",
   "execution_count": 8,
   "metadata": {},
   "outputs": [
    {
     "name": "stdout",
     "output_type": "stream",
     "text": [
      "adaptive refinement round 1 of 7 ...\n",
      "adaptive refinement round 2 of 7 ...\n",
      "adaptive refinement round 3 of 7 ...\n",
      "adaptive refinement round 4 of 7 ...\n",
      "adaptive refinement round 5 of 7 ...\n",
      "adaptive refinement round 6 of 7 ...\n",
      "adaptive refinement round 7 of 7 ...\n",
      "adaptive refinement round 1 of 7 ...\n",
      "adaptive refinement round 2 of 7 ...\n",
      "adaptive refinement round 3 of 7 ...\n",
      "adaptive refinement round 4 of 7 ...\n",
      "adaptive refinement round 5 of 7 ...\n",
      "adaptive refinement round 6 of 7 ...\n",
      "adaptive refinement round 7 of 7 ...\n",
      "adaptive refinement round 1 of 7 ...\n",
      "adaptive refinement round 2 of 7 ...\n",
      "adaptive refinement round 3 of 7 ...\n",
      "adaptive refinement round 4 of 7 ...\n",
      "adaptive refinement round 5 of 7 ...\n",
      "adaptive refinement round 6 of 7 ...\n",
      "adaptive refinement round 7 of 7 ...\n",
      "adaptive refinement round 1 of 7 ...\n",
      "adaptive refinement round 2 of 7 ...\n",
      "adaptive refinement round 3 of 7 ...\n",
      "adaptive refinement round 4 of 7 ...\n",
      "adaptive refinement round 5 of 7 ...\n",
      "adaptive refinement round 6 of 7 ...\n",
      "adaptive refinement round 7 of 7 ...\n",
      "adaptive refinement round 1 of 7 ...\n",
      "adaptive refinement round 2 of 7 ...\n",
      "adaptive refinement round 3 of 7 ...\n",
      "adaptive refinement round 4 of 7 ...\n",
      "adaptive refinement round 5 of 7 ...\n",
      "adaptive refinement round 6 of 7 ...\n",
      "adaptive refinement round 7 of 7 ...\n",
      "adaptive refinement round 1 of 7 ...\n",
      "adaptive refinement round 2 of 7 ...\n",
      "adaptive refinement round 3 of 7 ...\n",
      "adaptive refinement round 4 of 7 ...\n",
      "adaptive refinement round 5 of 7 ...\n",
      "adaptive refinement round 6 of 7 ...\n",
      "adaptive refinement round 7 of 7 ...\n",
      "adaptive refinement round 1 of 7 ...\n",
      "adaptive refinement round 2 of 7 ...\n",
      "adaptive refinement round 3 of 7 ...\n",
      "adaptive refinement round 4 of 7 ...\n",
      "adaptive refinement round 5 of 7 ...\n",
      "adaptive refinement round 6 of 7 ...\n",
      "adaptive refinement round 7 of 7 ...\n",
      "adaptive refinement round 1 of 7 ...\n",
      "adaptive refinement round 2 of 7 ...\n",
      "adaptive refinement round 3 of 7 ...\n",
      "adaptive refinement round 4 of 7 ...\n",
      "adaptive refinement round 5 of 7 ...\n",
      "adaptive refinement round 6 of 7 ...\n",
      "adaptive refinement round 7 of 7 ...\n",
      "adaptive refinement round 1 of 7 ...\n",
      "adaptive refinement round 2 of 7 ...\n",
      "adaptive refinement round 3 of 7 ...\n",
      "adaptive refinement round 4 of 7 ...\n",
      "adaptive refinement round 5 of 7 ...\n",
      "adaptive refinement round 6 of 7 ...\n",
      "adaptive refinement round 7 of 7 ...\n",
      "adaptive refinement round 1 of 7 ...\n",
      "adaptive refinement round 2 of 7 ...\n",
      "adaptive refinement round 3 of 7 ...\n",
      "adaptive refinement round 4 of 7 ...\n",
      "adaptive refinement round 5 of 7 ...\n",
      "adaptive refinement round 6 of 7 ...\n",
      "adaptive refinement round 7 of 7 ...\n"
     ]
    }
   ],
   "source": [
    "hpmap = []\n",
    "\n",
    "for i in range(10):\n",
    "    hpmap.append(sky_posterior[i].as_healpix())\n"
   ]
  },
  {
   "cell_type": "code",
   "execution_count": 9,
   "metadata": {},
   "outputs": [],
   "source": [
    "for i in range(10):\n",
    "    io.write_sky_map('skymaps/Test_GW170817_'+str(i)+'_1.fits', hpmap[i], nest=True)\n"
   ]
  },
  {
   "cell_type": "code",
   "execution_count": 10,
   "metadata": {},
   "outputs": [],
   "source": [
    "skymap = []\n",
    "\n",
    "for i in range(10):\n",
    "    s, metadata = io.fits.read_sky_map('skymaps/Test_GW170817_'+str(i)+'_1.fits', nest=None)\n",
    "    skymap.append(s)\n",
    "    "
   ]
  },
  {
   "cell_type": "code",
   "execution_count": 19,
   "metadata": {},
   "outputs": [],
   "source": [
    "#ax = plt.axes(projection=\"astro hours mollweide\")\n",
    "#ax.grid()\n",
    "\n",
    "cl = []\n",
    "area_90 = []\n",
    "area_50 = []\n",
    "search_area = []\n",
    "\n",
    "eps = 1e-5\n",
    "\n",
    "for i in range(10):\n",
    "    # Convert to probability per square degree\n",
    "    nside = hp.npix2nside(len(skymap[i]))\n",
    "    deg2perpix = hp.nside2pixarea(nside, degrees=True)\n",
    "    probperdeg2 = skymap[i] / deg2perpix\n",
    "    \n",
    "    event_ra = ra_test[i]\n",
    "    event_de = dec_test[i]\n",
    "\n",
    "    vmax = probperdeg2.max()\n",
    "    vmin = probperdeg2.min()\n",
    "    \n",
    "    confidence_levels = 100 * postprocess.find_greedy_credible_levels(skymap[i])\n",
    "    cl.append(confidence_levels[hp.ang2pix(nside,-event_de+np.pi/2,event_ra, nest=True)]) \n",
    "    \n",
    "    area_90.append(np.sum(confidence_levels <= 90) * hp.nside2pixarea(nside, degrees=True) + eps)\n",
    "    area_50.append(np.sum(confidence_levels <= 50) * hp.nside2pixarea(nside, degrees=True) + eps)\n",
    "    \n",
    "    search_area.append(np.sum(confidence_levels <= cl[i]) * hp.nside2pixarea(nside, degrees=True) + eps)  \n",
    "    "
   ]
  },
  {
   "cell_type": "code",
   "execution_count": 20,
   "metadata": {},
   "outputs": [
    {
     "name": "stdout",
     "output_type": "stream",
     "text": [
      "Percentage       Minimum area    Minimum index\n",
      "-------------  --------------  ---------------\n",
      "90%                  9.1929                  8\n",
      "50%                  2.67526                 8\n",
      "Searched Area        0.554075                0\n"
     ]
    }
   ],
   "source": [
    "from tabulate import tabulate\n",
    "\n",
    "table = [[\"90%\",np.min(area_90),np.argmin(area_90)],\n",
    "         [\"50%\",np.min(area_50),np.argmin(area_50)],\n",
    "         [\"Searched Area\",np.min(search_area),np.argmin(search_area)]]\n",
    "\n",
    "print(tabulate(table, headers=[\"Percentage\", \"Minimum area\", \"Minimum index\"]))\n",
    "  "
   ]
  },
  {
   "cell_type": "code",
   "execution_count": 13,
   "metadata": {},
   "outputs": [
    {
     "data": {
      "text/plain": [
       "Text(0.5, 0, 'Area in log(deg^2)')"
      ]
     },
     "execution_count": 13,
     "metadata": {},
     "output_type": "execute_result"
    },
    {
     "data": {
      "image/png": "[encoded data removed]",
      "text/plain": [
       "<Figure size 432x288 with 1 Axes>"
      ]
     },
     "metadata": {
      "needs_background": "light"
     },
     "output_type": "display_data"
    }
   ],
   "source": [
    "plt.hist(np.log10(area_90),50,range=(1,np.max(np.log10(search_area))),cumulative=True,histtype='step',density=True,label='90%, median='+str(round(np.median(area_90),2)))\n",
    "plt.hist(np.log10(area_50),50,range=(1,np.max(np.log10(search_area))),cumulative=True,histtype='step',density=True,label='50%, median='+str(round(np.median(area_50),2)))\n",
    "plt.hist(np.log10(search_area),50,range=(1,np.max(np.log10(search_area))),cumulative=True,histtype='step',density=True,label='Search, median='+str(round(np.median(search_area),2)))\n",
    "\n",
    "\n",
    "plt.legend(loc=4)\n",
    "plt.ylabel('Cumulative Ratio')\n",
    "plt.xlabel('Area in log(deg^2)')\n"
   ]
  },
  {
   "cell_type": "code",
   "execution_count": 26,
   "metadata": {},
   "outputs": [
    {
     "data": {
      "text/plain": [
       "[<matplotlib.lines.Line2D at 0x7f2244d69950>]"
      ]
     },
     "execution_count": 26,
     "metadata": {},
     "output_type": "execute_result"
    },
    {
     "data": {
      "image/png": "[encoded data removed]",
      "text/plain": [
       "<Figure size 360x360 with 1 Axes>"
      ]
     },
     "metadata": {
      "needs_background": "light"
     },
     "output_type": "display_data"
    }
   ],
   "source": [
    "cl = np.array(cl)\n",
    "cl = cl/100\n",
    "\n",
    "fig = plt.figure(figsize=(5, 5))\n",
    "ax = fig.add_subplot(111, projection='pp_plot')\n",
    "\n",
    "ax.add_confidence_band(len(ra_test),alpha=0.90) # Add 90% confidence band\n",
    "ax.add_diagonal() # Add diagonal line\n",
    "#ax.add_lightning(len(ra_test), 20) # Add some random realizations of n samples\n",
    "ax.add_series(cl) # Add our data\n"
   ]
  },
  {
   "cell_type": "code",
   "execution_count": 9,
   "metadata": {},
   "outputs": [],
   "source": [
    "skymap, metadata = io.fits.read_sky_map('skymaps/Test_GW170817_0_1.fits', nest=None)\n",
    "nside = hp.npix2nside(len(skymap))\n"
   ]
  },
  {
   "cell_type": "code",
   "execution_count": 10,
   "metadata": {},
   "outputs": [
    {
     "data": {
      "image/png": "[encoded data removed]",
      "text/plain": [
       "<Figure size 432x288 with 1 Axes>"
      ]
     },
     "metadata": {
      "needs_background": "light"
     },
     "output_type": "display_data"
    }
   ],
   "source": [
    "from astropy.coordinates import SkyCoord\n",
    "# Convert to probability per square degree\n",
    "deg2perpix = hp.nside2pixarea(nside, degrees=True)\n",
    "probperdeg2 = skymap / deg2perpix\n",
    "\n",
    "ax = plt.axes(projection=\"astro hours mollweide\")\n",
    "ax.grid()\n",
    "\n",
    "event_ra = ra_test[0]\n",
    "event_de = dec_test[0]\n",
    "\n",
    "vmax = probperdeg2.max()\n",
    "vmin = probperdeg2.min()\n",
    "ax.imshow_hpx((probperdeg2, 'ICRS'), nested=True, vmin=vmin, vmax=vmax, cmap='cylon')\n",
    "confidence_levels = 100 * postprocess.find_greedy_credible_levels(skymap)\n",
    "contours = ax.contour_hpx((confidence_levels, 'ICRS'), nested=metadata['nest'],linewidths=0.5,levels=[50,90],colors=['green','blue'])\n",
    "#cs = postprocess.contour(m, [50,90], degrees=True)\n",
    "ax.plot_coord(SkyCoord(event_ra, event_de, unit='rad'), 'x',markeredgecolor='black', markersize=5)\n",
    "\n",
    "text = []\n",
    "pp = np.round([50,90]).astype(int)\n",
    "#ii = np.round(np.searchsorted(np.sort(cls),[50,90]) * deg2perpix).astype(int)\n",
    "ii_90 = np.sum(confidence_levels <= 90) * hp.nside2pixarea(nside, degrees=True)\n",
    "ii_50 = np.sum(confidence_levels <= 50) * hp.nside2pixarea(nside, degrees=True)\n",
    "ii = np.round([ii_50,ii_90]).astype(int)\n",
    "for i, p in zip(ii, pp):\n",
    "            # FIXME: use Unicode symbol instead of TeX '$^2$'\n",
    "            # because of broken fonts on Scientific Linux 7.\n",
    "            text.append(u'{:d}% area: {:d} deg²'.format(p, i, grouping=True))\n",
    "ax.text(1, 1, '\\n'.join(text), transform=ax.transAxes, ha='right')\n",
    "#ax.figure.savefig('Localization_after_autoencoder/GWOSC_files_from_autoencoder_final/Localization_plots/CNN_MDN_GW170823_test_NSIDE64.png',dpi=150)\n",
    "ax.figure.savefig('Preds_test_0.png',dpi=150)\n"
   ]
  },
  {
   "cell_type": "code",
   "execution_count": null,
   "metadata": {},
   "outputs": [],
   "source": []
  },
  {
   "cell_type": "code",
   "execution_count": 1,
   "metadata": {},
   "outputs": [],
   "source": [
    "import h5py\n",
    "\n",
    "f1 = h5py.File(\"Adaptive_NSIDE/Injection_run_BNS_3_det_adaptive_SNR-10to20.hdf\", \"r\")\n",
    "probs = f1[\"Probabilities\"][()]\n",
    "ra_test = f1[\"RA_test\"][()]\n",
    "dec_test = f1[\"Dec_test\"][()]\n"
   ]
  },
  {
   "cell_type": "code",
   "execution_count": 8,
   "metadata": {},
   "outputs": [
    {
     "data": {
      "image/png": "[encoded data removed]",
      "text/plain": [
       "<Figure size 432x288 with 1 Axes>"
      ]
     },
     "metadata": {
      "needs_background": "light"
     },
     "output_type": "display_data"
    }
   ],
   "source": [
    "# Plot skymap\n",
    "\n",
    "import healpy as hp\n",
    "import numpy as np\n",
    "import matplotlib.pyplot as plt\n",
    "#import matplotlib\n",
    "#matplotlib.use('tkagg')\n",
    "from ligo.skymap import postprocess\n",
    "import numpy as np\n",
    "import matplotlib.pyplot as plt\n",
    "from matplotlib import rcParams\n",
    "import healpy as hp\n",
    "from ligo.skymap.io import fits\n",
    "from ligo.skymap import plot\n",
    "from ligo.skymap import postprocess\n",
    "from astropy.coordinates import SkyCoord\n",
    "from astropy.time import Time\n",
    "from matplotlib.pyplot import cm\n",
    "import matplotlib\n",
    "\n",
    "\n",
    "def my_cl(array,value):\n",
    "    ratio=1.0\n",
    "    arg = np.argsort(-array)\n",
    "    total = np.sum(array)\n",
    "    part=0.0\n",
    "    for i in arg:\n",
    "#        part = part + array[i]\n",
    "        if array[i]<value:\n",
    "            ratio = part/total\n",
    "            break\n",
    "        else:\n",
    "            part = part + array[i]\n",
    "    \n",
    "    return ratio\n",
    "\n",
    "\n",
    "nside=32\n",
    "npix=hp.nside2npix(nside)\n",
    "theta,phi = hp.pixelfunc.pix2ang(nside,np.arange(npix))\n",
    "#ra_pix = phi\n",
    "#de_pix = -theta + np.pi/2.0\n",
    "\n",
    "deg2perpix = hp.nside2pixarea(nside, degrees=True)\n",
    "\n",
    "#sector_data = np.loadtxt('Probabilities_1', skiprows=1)\n",
    "#prob = np.loadtxt('Localization_after_autoencoder/GWOSC_files_from_autoencoder_final/Localization_preds/CNN_MDN_GW170823_test_NSIDE64.txt')\n",
    "prob = probs[0]\n",
    "\n",
    "\n",
    "cls = 100 * postprocess.find_greedy_credible_levels(prob)\n",
    "\n",
    "ax = plt.axes(projection='astro hours mollweide')\n",
    "ax.grid()\n",
    "event_ra = ra_test[0]\n",
    "event_de = dec_test[0]\n",
    "\n",
    "value = hp.pixelfunc.get_interp_val(prob,event_de,event_ra)\n",
    "projector  = hp.projector.MollweideProj()\n",
    "#x1,y1 = projector.ang2xy(np.array([event_de,event_ra]))\n",
    "img = ax.imshow_hpx(prob, vmin=prob.min(), vmax=prob.max(),cmap='cylon')\n",
    "cs = ax.contour_hpx((cls, 'ICRS'),linewidths=0.5, levels=[0.5*np.sum(prob)*100,0.9*np.sum(prob)*100],colors=['green','blue'])\n",
    "m = theta\n",
    "cs = postprocess.contour(m, [50,90], degrees=True)\n",
    "ax.plot_coord(SkyCoord(event_ra, event_de, unit='rad'), 'x',markeredgecolor='black', markersize=5)\n",
    "text = []\n",
    "cl = my_cl(prob,value)*100\n",
    "pp = np.round([50,90]).astype(int)\n",
    "#ii = np.round(np.searchsorted(np.sort(cls),[50,90]) * deg2perpix).astype(int)\n",
    "ii_90 = np.sum(cls <= 90*np.sum(prob)) * hp.nside2pixarea(nside, degrees=True)\n",
    "ii_50 = np.sum(cls <= 50*np.sum(prob)) * hp.nside2pixarea(nside, degrees=True)\n",
    "ii = np.round([ii_50,ii_90]).astype(int)\n",
    "for i, p in zip(ii, pp):\n",
    "            # FIXME: use Unicode symbol instead of TeX '$^2$'\n",
    "            # because of broken fonts on Scientific Linux 7.\n",
    "            text.append(u'{:d}% area: {:d} deg²'.format(p, i, grouping=True))\n",
    "ax.text(1, 1, '\\n'.join(text), transform=ax.transAxes, ha='right')\n",
    "#ax.figure.savefig('Localization_after_autoencoder/GWOSC_files_from_autoencoder_final/Localization_plots/CNN_MDN_GW170823_test_NSIDE64.png',dpi=150)\n",
    "ax.figure.savefig('Preds_test_0.png',dpi=150)\n"
   ]
  },
  {
   "cell_type": "code",
   "execution_count": null,
   "metadata": {},
   "outputs": [],
   "source": []
  },
  {
   "cell_type": "code",
   "execution_count": 35,
   "metadata": {},
   "outputs": [],
   "source": [
    "f1 = h5py.File(\"/group/pmc005/cchatterjee/SNR_time_series_sample_files/default_snr_series_GW170817_BNS_snr_10-20_test.hdf\", 'r')\n"
   ]
  },
  {
   "cell_type": "code",
   "execution_count": 36,
   "metadata": {},
   "outputs": [],
   "source": [
    "group_test = f1['omf_injection_snr_samples']\n",
    "        \n",
    "data_h1_test = group_test['h1_snr']\n",
    "data_l1_test = group_test['l1_snr']\n",
    "data_v1_test = group_test['v1_snr']\n",
    "        \n",
    "h1_test_real = np.zeros([2000,410])\n",
    "l1_test_real = np.zeros([2000,410])\n",
    "v1_test_real = np.zeros([2000,410])\n",
    "        \n",
    "h1_test_imag = np.zeros([2000,410])\n",
    "l1_test_imag = np.zeros([2000,410])\n",
    "v1_test_imag = np.zeros([2000,410])\n",
    "        \n",
    "for i in range(2000):\n",
    "    h1_test_real[i] = abs(group_test['h1_snr'][str(i)][()][1840:2250] )\n",
    "    l1_test_real[i] = abs(data_l1_test[str(i)][()][1840:2250] )\n",
    "    v1_test_real[i] = abs(data_v1_test[str(i)][()][1840:2250] )\n",
    "    \n",
    "    h1_test_imag[i] = np.imag(data_h1_test[str(i)][()][1840:2250] )\n",
    "    l1_test_imag[i] = np.imag(data_l1_test[str(i)][()][1840:2250] )\n",
    "    v1_test_imag[i] = np.imag(data_v1_test[str(i)][()][1840:2250] )\n",
    "        \n",
    "f1.close()\n",
    "        \n",
    "h1_test_real = h1_test_real[:,:,None]\n",
    "l1_test_real = l1_test_real[:,:,None]\n",
    "v1_test_real = v1_test_real[:,:,None]\n",
    "    \n",
    "h1_test_imag = h1_test_imag[:,:,None]\n",
    "l1_test_imag = l1_test_imag[:,:,None]\n",
    "v1_test_imag = v1_test_imag[:,:,None]\n",
    "        "
   ]
  },
  {
   "cell_type": "code",
   "execution_count": null,
   "metadata": {},
   "outputs": [],
   "source": []
  },
  {
   "cell_type": "code",
   "execution_count": null,
   "metadata": {},
   "outputs": [],
   "source": []
  },
  {
   "cell_type": "code",
   "execution_count": 58,
   "metadata": {},
   "outputs": [
    {
     "data": {
      "text/plain": [
       "<matplotlib.legend.Legend at 0x7fa0c5073a10>"
      ]
     },
     "execution_count": 58,
     "metadata": {},
     "output_type": "execute_result"
    },
    {
     "data": {
      "image/png": "[encoded data removed]",
      "text/plain": [
       "<Figure size 432x288 with 1 Axes>"
      ]
     },
     "metadata": {
      "needs_background": "light"
     },
     "output_type": "display_data"
    }
   ],
   "source": [
    "plt.plot(np.abs(h1_snr_series[0]), label='Hanford')\n",
    "plt.plot(np.abs(l1_snr_series[0]), label='Livingston')\n",
    "plt.plot(np.abs(v1_snr_series[0]), label='Virgo')\n",
    "\n",
    "plt.legend()\n"
   ]
  },
  {
   "cell_type": "code",
   "execution_count": 40,
   "metadata": {},
   "outputs": [],
   "source": [
    "f1.close()\n"
   ]
  },
  {
   "cell_type": "code",
   "execution_count": null,
   "metadata": {},
   "outputs": [],
   "source": []
  },
  {
   "cell_type": "code",
   "execution_count": null,
   "metadata": {},
   "outputs": [],
   "source": []
  },
  {
   "cell_type": "code",
   "execution_count": null,
   "metadata": {},
   "outputs": [],
   "source": []
  },
  {
   "cell_type": "code",
   "execution_count": null,
   "metadata": {},
   "outputs": [],
   "source": []
  },
  {
   "cell_type": "code",
   "execution_count": null,
   "metadata": {},
   "outputs": [],
   "source": []
  },
  {
   "cell_type": "code",
   "execution_count": null,
   "metadata": {},
   "outputs": [],
   "source": []
  },
  {
   "cell_type": "code",
   "execution_count": null,
   "metadata": {},
   "outputs": [],
   "source": []
  },
  {
   "cell_type": "code",
   "execution_count": null,
   "metadata": {},
   "outputs": [],
   "source": []
  },
  {
   "cell_type": "code",
   "execution_count": null,
   "metadata": {},
   "outputs": [],
   "source": []
  },
  {
   "cell_type": "code",
   "execution_count": null,
   "metadata": {},
   "outputs": [],
   "source": []
  },
  {
   "cell_type": "code",
   "execution_count": null,
   "metadata": {},
   "outputs": [],
   "source": []
  },
  {
   "cell_type": "code",
   "execution_count": null,
   "metadata": {},
   "outputs": [],
   "source": []
  },
  {
   "cell_type": "code",
   "execution_count": null,
   "metadata": {},
   "outputs": [],
   "source": []
  }
 ],
 "metadata": {
  "kernelspec": {
   "display_name": "Python 3",
   "language": "python",
   "name": "python3"
  },
  "language_info": {
   "codemirror_mode": {
    "name": "ipython",
    "version": 3
   },
   "file_extension": ".py",
   "mimetype": "text/x-python",
   "name": "python",
   "nbconvert_exporter": "python",
   "pygments_lexer": "ipython3",
   "version": "3.7.11"
  }
 },
 "nbformat": 4,
 "nbformat_minor": 4
}
