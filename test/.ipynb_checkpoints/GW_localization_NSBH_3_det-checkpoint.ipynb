{
 "cells": [
  {
   "cell_type": "code",
   "execution_count": 15,
   "metadata": {},
   "outputs": [],
   "source": [
    "import numpy as np\n",
    "import h5py\n",
    "\n",
    "f1 = h5py.File('/group/pmc005/cchatterjee/SNR_time_series_sample_files/default_snr_series_GW170817_NSBH_train_52k.hdf', 'r')\n",
    "f2 = h5py.File('/group/pmc005/cchatterjee/SNR_time_series_sample_files/default_snr_series_GW170817_NSBH_train_30k.hdf', 'r')\n",
    "f3 = h5py.File('/group/pmc005/cchatterjee/SNR_time_series_sample_files/default_snr_series_GW170817_NSBH_train_42-47.hdf', 'r')\n",
    "f4 = h5py.File('/group/pmc005/cchatterjee/SNR_time_series_sample_files/default_snr_series_GW170817_NSBH_train_48-50.hdf', 'r')\n",
    "\n",
    "h1_real_52k = abs(f1['h1_snr_series'][()])\n",
    "l1_real_52k = abs(f1['l1_snr_series'][()])\n",
    "v1_real_52k = abs(f1['v1_snr_series'][()])\n",
    "h1_real_30k = abs(f2['h1_snr_series'][()])\n",
    "l1_real_30k = abs(f2['l1_snr_series'][()])\n",
    "v1_real_30k = abs(f2['v1_snr_series'][()])\n",
    "h1_real_12k = abs(f3['h1_snr_series'][()])\n",
    "l1_real_12k = abs(f3['l1_snr_series'][()])\n",
    "v1_real_12k = abs(f3['v1_snr_series'][()])\n",
    "h1_real_6k = abs(f4['h1_snr_series'][()])\n",
    "l1_real_6k = abs(f4['l1_snr_series'][()])\n",
    "v1_real_6k = abs(f4['v1_snr_series'][()])\n",
    "\n",
    "\n",
    "h1_real = np.concatenate([h1_real_52k, h1_real_30k, h1_real_12k, h1_real_6k], axis=0)\n",
    "l1_real = np.concatenate([l1_real_52k, l1_real_30k, l1_real_12k, l1_real_6k], axis=0)\n",
    "v1_real = np.concatenate([v1_real_52k, v1_real_30k, v1_real_12k, v1_real_6k], axis=0)\n",
    "\n",
    "h1_imag_52k = np.imag(f1['h1_snr_series'][()])\n",
    "l1_imag_52k = np.imag(f1['l1_snr_series'][()])\n",
    "v1_imag_52k = np.imag(f1['v1_snr_series'][()])\n",
    "h1_imag_30k = np.imag(f2['h1_snr_series'][()])\n",
    "l1_imag_30k = np.imag(f2['l1_snr_series'][()])\n",
    "v1_imag_30k = np.imag(f2['v1_snr_series'][()])\n",
    "h1_imag_12k = np.imag(f3['h1_snr_series'][()])\n",
    "l1_imag_12k = np.imag(f3['l1_snr_series'][()])\n",
    "v1_imag_12k = np.imag(f3['v1_snr_series'][()])\n",
    "h1_imag_6k = np.imag(f4['h1_snr_series'][()])\n",
    "l1_imag_6k = np.imag(f4['l1_snr_series'][()])\n",
    "v1_imag_6k = np.imag(f4['v1_snr_series'][()])\n",
    "\n",
    "h1_imag = np.concatenate([h1_imag_52k, h1_imag_30k, h1_imag_12k, h1_imag_6k], axis=0)\n",
    "l1_imag = np.concatenate([l1_imag_52k, l1_imag_30k, l1_imag_12k, l1_imag_6k], axis=0)\n",
    "v1_imag = np.concatenate([v1_imag_52k, v1_imag_30k, v1_imag_12k, v1_imag_6k], axis=0)\n",
    "\n",
    "f1.close()\n",
    "f2.close()\n",
    "f3.close()\n",
    "f4.close()\n"
   ]
  },
  {
   "cell_type": "code",
   "execution_count": 5,
   "metadata": {},
   "outputs": [
    {
     "data": {
      "text/plain": [
       "6.450890761107217"
      ]
     },
     "execution_count": 5,
     "metadata": {},
     "output_type": "execute_result"
    }
   ],
   "source": [
    "max(l1_real[0])\n"
   ]
  },
  {
   "cell_type": "code",
   "execution_count": 24,
   "metadata": {},
   "outputs": [],
   "source": [
    "f1 = h5py.File('/group/pmc005/cchatterjee/SNR_time_series_sample_files/default_GW170817_injection_run_parameters_NSBH_train_52k.hdf', 'r')\n",
    "f2 = h5py.File('/group/pmc005/cchatterjee/SNR_time_series_sample_files/default_GW170817_injection_run_parameters_NSBH_train_30k.hdf', 'r')\n",
    "f3 = h5py.File('/group/pmc005/cchatterjee/SNR_time_series_sample_files/default_GW170817_injection_run_parameters_NSBH_train_42-47.hdf', 'r')\n",
    "f4 = h5py.File('/group/pmc005/cchatterjee/SNR_time_series_sample_files/default_GW170817_injection_run_parameters_NSBH_train_48-50.hdf', 'r')\n"
   ]
  },
  {
   "cell_type": "code",
   "execution_count": 25,
   "metadata": {},
   "outputs": [],
   "source": [
    "h1_snr_1 = f1['H1_SNR'][()]\n",
    "h1_snr_2 = f2['H1_SNR'][0:30000][()]\n",
    "h1_snr_3 = f3['H1_SNR'][()]\n",
    "h1_snr_4 = f4['H1_SNR'][()]\n",
    "\n",
    "h1_snr = np.concatenate([h1_snr_1, h1_snr_2, h1_snr_3, h1_snr_4])\n"
   ]
  },
  {
   "cell_type": "code",
   "execution_count": 26,
   "metadata": {},
   "outputs": [],
   "source": [
    "l1_snr_1 = f1['L1_SNR'][()]\n",
    "l1_snr_2 = f2['L1_SNR'][0:30000][()]\n",
    "l1_snr_3 = f3['L1_SNR'][()]\n",
    "l1_snr_4 = f4['L1_SNR'][()]\n",
    "\n",
    "l1_snr = np.concatenate([l1_snr_1, l1_snr_2, l1_snr_3, l1_snr_4])\n",
    "\n",
    "v1_snr_1 = f1['V1_SNR'][()]\n",
    "v1_snr_2 = f2['V1_SNR'][0:30000][()]\n",
    "v1_snr_3 = f3['V1_SNR'][()]\n",
    "v1_snr_4 = f4['V1_SNR'][()]\n",
    "\n",
    "v1_snr = np.concatenate([v1_snr_1, v1_snr_2, v1_snr_3, v1_snr_4])\n"
   ]
  },
  {
   "cell_type": "code",
   "execution_count": 27,
   "metadata": {},
   "outputs": [],
   "source": [
    "h1 = h1_snr > 4\n",
    "l1 = l1_snr > 4\n",
    "v1 = v1_snr > 4\n"
   ]
  },
  {
   "cell_type": "code",
   "execution_count": 28,
   "metadata": {},
   "outputs": [],
   "source": [
    "index = np.zeros(100000, dtype = bool)\n",
    "\n",
    "for i in range(100000):\n",
    "    if(h1[i] == True and l1[i] == True and v1[i] == True):\n",
    "        index[i] = True\n"
   ]
  },
  {
   "cell_type": "code",
   "execution_count": 42,
   "metadata": {},
   "outputs": [],
   "source": [
    "f1.close()\n",
    "f2.close()\n",
    "f3.close()\n",
    "f4.close()\n"
   ]
  },
  {
   "cell_type": "code",
   "execution_count": 22,
   "metadata": {},
   "outputs": [
    {
     "data": {
      "text/plain": [
       "90928"
      ]
     },
     "execution_count": 22,
     "metadata": {},
     "output_type": "execute_result"
    }
   ],
   "source": [
    "len(v1_real[index])\n"
   ]
  },
  {
   "cell_type": "code",
   "execution_count": 31,
   "metadata": {},
   "outputs": [],
   "source": [
    "ra_1 = f1['ra'][()]\n",
    "ra_2 = f2['ra'][0:30000][()]\n",
    "ra_3 = f3['ra'][()]\n",
    "ra_4 = f4['ra'][()]\n",
    "            \n",
    "dec_1 = f1['dec'][()]\n",
    "dec_2 = f2['dec'][0:30000][()]\n",
    "dec_3 = f3['dec'][()]\n",
    "dec_4 = f4['dec'][()]\n",
    "            \n",
    "ra = np.concatenate([ra_1, ra_2, ra_3, ra_4])\n",
    "dec = np.concatenate([dec_1, dec_2, dec_3, dec_4])\n",
    "\n",
    "index = np.zeros(100000, dtype = bool)\n",
    "\n",
    "for i in range(100000):\n",
    "    if(h1[i] == True and l1[i] == True and v1[i] == True):\n",
    "        index[i] = True\n",
    "        "
   ]
  },
  {
   "cell_type": "code",
   "execution_count": 34,
   "metadata": {},
   "outputs": [],
   "source": [
    "ra = ra[index == True]\n"
   ]
  },
  {
   "cell_type": "code",
   "execution_count": 41,
   "metadata": {},
   "outputs": [
    {
     "data": {
      "text/plain": [
       "97224"
      ]
     },
     "execution_count": 41,
     "metadata": {},
     "output_type": "execute_result"
    }
   ],
   "source": [
    "len(h1[h1 == True])\n"
   ]
  },
  {
   "cell_type": "code",
   "execution_count": 44,
   "metadata": {},
   "outputs": [],
   "source": [
    "f1 = h5py.File('../evaluation/Injection_run_SNR_time_series_NSBH_NF_3_det_new_model.hdf', 'r')\n",
    "p = f1['Probabilities'][()]\n",
    "ra_test = f1['RA_test'][()]\n",
    "dec_test = f1['Dec_test'][()]\n",
    "\n",
    "#p_new = []\n",
    "#for i in range(2000):\n",
    "#    p_new.append(p[i]/np.sum(p[i]))\n",
    "\n",
    "# Do this only for the new version of the code:\n",
    "ra_test = np.squeeze(ra_test.T)\n",
    "dec_test = np.squeeze(dec_test.T)\n"
   ]
  },
  {
   "cell_type": "code",
   "execution_count": 51,
   "metadata": {},
   "outputs": [
    {
     "ename": "NameError",
     "evalue": "name 'X_real' is not defined",
     "output_type": "error",
     "traceback": [
      "\u001b[0;31m---------------------------------------------------------------------------\u001b[0m",
      "\u001b[0;31mNameError\u001b[0m                                 Traceback (most recent call last)",
      "\u001b[0;32m<ipython-input-51-374cae0a8d2e>\u001b[0m in \u001b[0;36m<module>\u001b[0;34m\u001b[0m\n\u001b[1;32m     20\u001b[0m \u001b[0mf_test\u001b[0m\u001b[0;34m.\u001b[0m\u001b[0mclose\u001b[0m\u001b[0;34m(\u001b[0m\u001b[0;34m)\u001b[0m\u001b[0;34m\u001b[0m\u001b[0;34m\u001b[0m\u001b[0m\n\u001b[1;32m     21\u001b[0m \u001b[0;34m\u001b[0m\u001b[0m\n\u001b[0;32m---> 22\u001b[0;31m \u001b[0mX_real\u001b[0m \u001b[0;34m=\u001b[0m \u001b[0mX_real\u001b[0m\u001b[0;34m[\u001b[0m\u001b[0mindex\u001b[0m \u001b[0;34m==\u001b[0m \u001b[0;32mTrue\u001b[0m\u001b[0;34m]\u001b[0m\u001b[0;34m\u001b[0m\u001b[0;34m\u001b[0m\u001b[0m\n\u001b[0m\u001b[1;32m     23\u001b[0m \u001b[0mX_imag\u001b[0m \u001b[0;34m=\u001b[0m \u001b[0mX_imag\u001b[0m\u001b[0;34m[\u001b[0m\u001b[0mindex\u001b[0m \u001b[0;34m==\u001b[0m \u001b[0;32mTrue\u001b[0m\u001b[0;34m]\u001b[0m\u001b[0;34m\u001b[0m\u001b[0;34m\u001b[0m\u001b[0m\n\u001b[1;32m     24\u001b[0m \u001b[0my\u001b[0m \u001b[0;34m=\u001b[0m \u001b[0my\u001b[0m\u001b[0;34m[\u001b[0m\u001b[0mindex\u001b[0m \u001b[0;34m==\u001b[0m \u001b[0;32mTrue\u001b[0m\u001b[0;34m]\u001b[0m\u001b[0;34m\u001b[0m\u001b[0;34m\u001b[0m\u001b[0m\n",
      "\u001b[0;31mNameError\u001b[0m: name 'X_real' is not defined"
     ]
    }
   ],
   "source": [
    "f_test = h5py.File(\"/group/pmc005/cchatterjee/SNR_time_series_sample_files/default_GW170817_parameters_NSBH_test.hdf\", 'r')\n",
    "\n",
    "h1_snr = f_test['H1_SNR'][()]\n",
    "l1_snr = f_test['L1_SNR'][()]\n",
    "v1_snr = f_test['V1_SNR'][()]\n",
    "            \n",
    "h1 = h1_snr > 4\n",
    "l1 = l1_snr > 4\n",
    "v1 = v1_snr > 4\n",
    "            \n",
    "ra = f_test['ra'][()]\n",
    "dec = f_test['dec'][()] \n",
    "\n",
    "index = np.zeros(2000, dtype = bool)\n",
    "\n",
    "for i in range(2000):\n",
    "    if(h1[i] == True and l1[i] == True and v1[i] == True):\n",
    "        index[i] = True\n",
    "\n",
    "f_test.close()\n",
    "            \n",
    "ra = ra[index == True]\n",
    "dec = dec[index == True]\n"
   ]
  },
  {
   "cell_type": "code",
   "execution_count": null,
   "metadata": {},
   "outputs": [],
   "source": []
  },
  {
   "cell_type": "code",
   "execution_count": null,
   "metadata": {},
   "outputs": [],
   "source": []
  },
  {
   "cell_type": "code",
   "execution_count": null,
   "metadata": {},
   "outputs": [],
   "source": []
  }
 ],
 "metadata": {
  "kernelspec": {
   "display_name": "Python 3",
   "language": "python",
   "name": "python3"
  },
  "language_info": {
   "codemirror_mode": {
    "name": "ipython",
    "version": 3
   },
   "file_extension": ".py",
   "mimetype": "text/x-python",
   "name": "python",
   "nbconvert_exporter": "python",
   "pygments_lexer": "ipython3",
   "version": "3.7.11"
  }
 },
 "nbformat": 4,
 "nbformat_minor": 4
}
