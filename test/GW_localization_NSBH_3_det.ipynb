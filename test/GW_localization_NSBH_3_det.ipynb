{
 "cells": [
  {
   "cell_type": "code",
   "execution_count": 3,
   "metadata": {},
   "outputs": [],
   "source": [
    "import numpy as np\n",
    "import h5py\n",
    "\n",
    "f1 = h5py.File('/group/pmc005/cchatterjee/SNR_time_series_sample_files/default_snr_series_GW170817_NSBH_train_52k.hdf', 'r')\n",
    "f2 = h5py.File('/group/pmc005/cchatterjee/SNR_time_series_sample_files/default_snr_series_GW170817_NSBH_train_30k.hdf', 'r')\n",
    "f3 = h5py.File('/group/pmc005/cchatterjee/SNR_time_series_sample_files/default_snr_series_GW170817_NSBH_train_42-47.hdf', 'r')\n",
    "f4 = h5py.File('/group/pmc005/cchatterjee/SNR_time_series_sample_files/default_snr_series_GW170817_NSBH_train_48-50.hdf', 'r')\n",
    "\n",
    "h1_real_52k = abs(f1['h1_snr_series'][()])\n",
    "l1_real_52k = abs(f1['l1_snr_series'][()])\n",
    "v1_real_52k = abs(f1['v1_snr_series'][()])\n",
    "h1_real_30k = abs(f2['h1_snr_series'][()])\n",
    "l1_real_30k = abs(f2['l1_snr_series'][()])\n",
    "v1_real_30k = abs(f2['v1_snr_series'][()])\n",
    "h1_real_12k = abs(f3['h1_snr_series'][()])\n",
    "l1_real_12k = abs(f3['l1_snr_series'][()])\n",
    "v1_real_12k = abs(f3['v1_snr_series'][()])\n",
    "h1_real_6k = abs(f4['h1_snr_series'][()])\n",
    "l1_real_6k = abs(f4['l1_snr_series'][()])\n",
    "v1_real_6k = abs(f4['v1_snr_series'][()])\n",
    "\n",
    "\n",
    "h1_real = np.concatenate([h1_real_52k, h1_real_30k, h1_real_12k, h1_real_6k], axis=0)\n",
    "l1_real = np.concatenate([l1_real_52k, l1_real_30k, l1_real_12k, l1_real_6k], axis=0)\n",
    "v1_real = np.concatenate([v1_real_52k, v1_real_30k, v1_real_12k, v1_real_6k], axis=0)\n",
    "\n",
    "h1_imag_52k = np.imag(f1['h1_snr_series'][()])\n",
    "l1_imag_52k = np.imag(f1['l1_snr_series'][()])\n",
    "v1_imag_52k = np.imag(f1['v1_snr_series'][()])\n",
    "h1_imag_30k = np.imag(f2['h1_snr_series'][()])\n",
    "l1_imag_30k = np.imag(f2['l1_snr_series'][()])\n",
    "v1_imag_30k = np.imag(f2['v1_snr_series'][()])\n",
    "h1_imag_12k = np.imag(f3['h1_snr_series'][()])\n",
    "l1_imag_12k = np.imag(f3['l1_snr_series'][()])\n",
    "v1_imag_12k = np.imag(f3['v1_snr_series'][()])\n",
    "h1_imag_6k = np.imag(f4['h1_snr_series'][()])\n",
    "l1_imag_6k = np.imag(f4['l1_snr_series'][()])\n",
    "v1_imag_6k = np.imag(f4['v1_snr_series'][()])\n",
    "\n",
    "h1_imag = np.concatenate([h1_imag_52k, h1_imag_30k, h1_imag_12k, h1_imag_6k], axis=0)\n",
    "l1_imag = np.concatenate([l1_imag_52k, l1_imag_30k, l1_imag_12k, l1_imag_6k], axis=0)\n",
    "v1_imag = np.concatenate([v1_imag_52k, v1_imag_30k, v1_imag_12k, v1_imag_6k], axis=0)\n",
    "\n",
    "f1.close()\n",
    "f2.close()\n",
    "f3.close()\n",
    "f4.close()\n"
   ]
  },
  {
   "cell_type": "code",
   "execution_count": 14,
   "metadata": {},
   "outputs": [
    {
     "data": {
      "text/plain": [
       "6.450890761107217"
      ]
     },
     "execution_count": 14,
     "metadata": {},
     "output_type": "execute_result"
    }
   ],
   "source": [
    "max(l1_real[0])\n"
   ]
  },
  {
   "cell_type": "code",
   "execution_count": 23,
   "metadata": {},
   "outputs": [],
   "source": [
    "f1 = h5py.File('/group/pmc005/cchatterjee/SNR_time_series_sample_files/default_GW170817_injection_run_parameters_NSBH_train_52k.hdf', 'r')\n",
    "f2 = h5py.File('/group/pmc005/cchatterjee/SNR_time_series_sample_files/default_GW170817_injection_run_parameters_NSBH_train_30k.hdf', 'r')\n",
    "f3 = h5py.File('/group/pmc005/cchatterjee/SNR_time_series_sample_files/default_GW170817_injection_run_parameters_NSBH_train_42-47.hdf', 'r')\n",
    "f4 = h5py.File('/group/pmc005/cchatterjee/SNR_time_series_sample_files/default_GW170817_injection_run_parameters_NSBH_train_48-50.hdf', 'r')\n"
   ]
  },
  {
   "cell_type": "code",
   "execution_count": 48,
   "metadata": {},
   "outputs": [],
   "source": [
    "h1_snr_1 = f1['H1_SNR'][()]\n",
    "h1_snr_2 = f2['H1_SNR'][0:30000][()]\n",
    "h1_snr_3 = f3['H1_SNR'][()]\n",
    "h1_snr_4 = f4['H1_SNR'][()]\n",
    "\n",
    "h1_snr = np.concatenate([h1_snr_1, h1_snr_2, h1_snr_3, h1_snr_4])\n"
   ]
  },
  {
   "cell_type": "code",
   "execution_count": 49,
   "metadata": {},
   "outputs": [],
   "source": [
    "l1_snr_1 = f1['L1_SNR'][()]\n",
    "l1_snr_2 = f2['L1_SNR'][0:30000][()]\n",
    "l1_snr_3 = f3['L1_SNR'][()]\n",
    "l1_snr_4 = f4['L1_SNR'][()]\n",
    "\n",
    "l1_snr = np.concatenate([l1_snr_1, l1_snr_2, l1_snr_3, l1_snr_4])\n",
    "\n",
    "v1_snr_1 = f1['V1_SNR'][()]\n",
    "v1_snr_2 = f2['V1_SNR'][0:30000][()]\n",
    "v1_snr_3 = f3['V1_SNR'][()]\n",
    "v1_snr_4 = f4['V1_SNR'][()]\n",
    "\n",
    "v1_snr = np.concatenate([v1_snr_1, v1_snr_2, v1_snr_3, v1_snr_4])\n"
   ]
  },
  {
   "cell_type": "code",
   "execution_count": 50,
   "metadata": {},
   "outputs": [],
   "source": [
    "h1 = h1_snr > 4\n",
    "l1 = l1_snr > 4\n",
    "v1 = v1_snr > 4\n"
   ]
  },
  {
   "cell_type": "code",
   "execution_count": 63,
   "metadata": {},
   "outputs": [],
   "source": [
    "index = np.zeros(100000, dtype = bool)\n",
    "\n",
    "for i in range(100000):\n",
    "    if(h1[i] == True and l1[i] == True and v1[i] == True):\n",
    "        index[i] = True\n"
   ]
  },
  {
   "cell_type": "code",
   "execution_count": 54,
   "metadata": {},
   "outputs": [],
   "source": [
    "f1.close()\n",
    "f2.close()\n",
    "f3.close()\n",
    "f4.close()\n"
   ]
  },
  {
   "cell_type": "code",
   "execution_count": 70,
   "metadata": {},
   "outputs": [
    {
     "data": {
      "text/plain": [
       "90928"
      ]
     },
     "execution_count": 70,
     "metadata": {},
     "output_type": "execute_result"
    }
   ],
   "source": [
    "len(v1_real[index])\n"
   ]
  },
  {
   "cell_type": "code",
   "execution_count": null,
   "metadata": {},
   "outputs": [],
   "source": []
  },
  {
   "cell_type": "code",
   "execution_count": null,
   "metadata": {},
   "outputs": [],
   "source": []
  }
 ],
 "metadata": {
  "kernelspec": {
   "display_name": "Python 3",
   "language": "python",
   "name": "python3"
  },
  "language_info": {
   "codemirror_mode": {
    "name": "ipython",
    "version": 3
   },
   "file_extension": ".py",
   "mimetype": "text/x-python",
   "name": "python",
   "nbconvert_exporter": "python",
   "pygments_lexer": "ipython3",
   "version": "3.7.11"
  }
 },
 "nbformat": 4,
 "nbformat_minor": 4
}
